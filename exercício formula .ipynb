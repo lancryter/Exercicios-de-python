{
 "cells": [
  {
   "cell_type": "markdown",
   "metadata": {},
   "source": [
    "### Exercicio de fixação paras aulas de python"
   ]
  },
  {
   "cell_type": "markdown",
   "metadata": {},
   "source": [
    "## Formula de Bhaskara"
   ]
  },
  {
   "cell_type": "markdown",
   "metadata": {},
   "source": [
    "### utilizar somente valorea inteiros"
   ]
  },
  {
   "cell_type": "code",
   "execution_count": 1,
   "metadata": {},
   "outputs": [],
   "source": [
    "# import math\n",
    "\n",
    "# a = int(raw_input(\"Digite o Valor de A: \"))\n",
    "\n",
    "# b = int(raw_input(\"Digite o Valor de B: \"))\n",
    "\n",
    "# c = int(raw_input(\"Digite o Valor de C: \"))\n",
    "\n",
    "# x=(b**2) - (4*a*c)\n",
    "\n",
    "# x= math.sqrt (x)\n",
    "\n",
    "# x1=(-b + x) / (a*2)\n",
    "\n",
    "# x2=(-b - x) / (a*2)\n",
    "\n",
    "# print(\" O valor de x1 e: %s \" %x1)\n",
    "\n",
    "# print(\" O valor de x2 e: %s \" %x2)"
   ]
  },
  {
   "cell_type": "code",
   "execution_count": null,
   "metadata": {},
   "outputs": [],
   "source": []
  }
 ],
 "metadata": {
  "kernelspec": {
   "display_name": "Python 3",
   "language": "python",
   "name": "python3"
  },
  "language_info": {
   "codemirror_mode": {
    "name": "ipython",
    "version": 3
   },
   "file_extension": ".py",
   "mimetype": "text/x-python",
   "name": "python",
   "nbconvert_exporter": "python",
   "pygments_lexer": "ipython3",
   "version": "3.6.5"
  }
 },
 "nbformat": 4,
 "nbformat_minor": 2
}
