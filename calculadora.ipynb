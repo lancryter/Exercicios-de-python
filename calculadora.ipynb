{
 "cells": [
  {
   "cell_type": "code",
   "execution_count": 1,
   "metadata": {},
   "outputs": [],
   "source": [
    "## Calculadora em Python"
   ]
  },
  {
   "cell_type": "code",
   "execution_count": 7,
   "metadata": {},
   "outputs": [
    {
     "name": "stdout",
     "output_type": "stream",
     "text": [
      "\n",
      " ********** Python Calculadora ************\n",
      " Selecione o numero da operação desejada :\n",
      "\n",
      "1 soma\n",
      "2 Subtração\n",
      "3 Multiplicação\n",
      "4 Divisão\n",
      "\n",
      " digite sua opção (1/2/3/4):1\n",
      "\n",
      " digite o primeiro numero:10\n",
      "\n",
      " digite o segundo numero:10\n",
      "\n",
      "\n",
      "10 + 10 = 20\n",
      "\n",
      "\n"
     ]
    }
   ],
   "source": [
    "print (\"\\n ********** Python Calculadora ************\")\n",
    "\n",
    "def add (x,y):\n",
    "    return x + y\n",
    "\n",
    "def subtrack (x,y):\n",
    "    return x - y\n",
    "    \n",
    "def multiply (x,y):\n",
    "    return x * Y\n",
    "\n",
    "def divide (x,Y):\n",
    "    return x / y\n",
    "\n",
    "print (\" Selecione o numero da operação desejada :\\n\")\n",
    "\n",
    "print(\"1 soma\")\n",
    "\n",
    "print(\"2 Subtração\")\n",
    "\n",
    "print(\"3 Multiplicação\")\n",
    "\n",
    "print(\"4 Divisão\")\n",
    "\n",
    "escolha = input (\"\\n digite sua opção (1/2/3/4):\")\n",
    "\n",
    "num1 = int(input(\"\\n digite o primeiro numero:\"))\n",
    "\n",
    "num2 = int(input(\"\\n digite o segundo numero:\"))\n",
    "\n",
    "if escolha == '1':\n",
    "    \n",
    "    print (\"\\n\")\n",
    "    \n",
    "    print(num1,\"+\",num2,\"=\",add(num1, num2))\n",
    "    \n",
    "    print (\"\\n\")\n",
    "    \n",
    "elif escolha == '2':\n",
    "    \n",
    "    print (\"\\n\")\n",
    "    \n",
    "    print(num1,\"-\",num2,\"=\",subtract(num1, num2))\n",
    "    \n",
    "    print (\"\\n\")\n",
    "    \n",
    "elif escolha =='3':    \n",
    "    \n",
    "    print (\"\\n\")\n",
    "    \n",
    "    print(num1,\"*\",num2,\"=\",multiply(num1, num2))\n",
    "    \n",
    "    print (\"\\n\")\n",
    "    \n",
    "elif escolha =='4':\n",
    "    \n",
    "    print (\"\\n\")\n",
    "    \n",
    "    print(num1,\"/\",num2,\"=\",divide(num1, num2))\n",
    "    \n",
    "    print (\"\\n\")\n",
    "    \n",
    "else:\n",
    "    \n",
    "    print (\"\\n Opição Inválida!\")\n",
    "    \n"
   ]
  },
  {
   "cell_type": "code",
   "execution_count": null,
   "metadata": {},
   "outputs": [],
   "source": []
  }
 ],
 "metadata": {
  "kernelspec": {
   "display_name": "Python 3",
   "language": "python",
   "name": "python3"
  },
  "language_info": {
   "codemirror_mode": {
    "name": "ipython",
    "version": 3
   },
   "file_extension": ".py",
   "mimetype": "text/x-python",
   "name": "python",
   "nbconvert_exporter": "python",
   "pygments_lexer": "ipython3",
   "version": "3.6.5"
  }
 },
 "nbformat": 4,
 "nbformat_minor": 2
}
